{
 "cells": [
  {
   "cell_type": "markdown",
   "id": "6e6e8e68",
   "metadata": {},
   "source": [
    "# Assignment 1: Boston House Price Prediction using Linear Regression and Neural Network"
   ]
  },
  {
   "cell_type": "code",
   "execution_count": null,
   "id": "b5723acf",
   "metadata": {},
   "outputs": [],
   "source": [
    "# Import necessary libraries\n",
    "import numpy as np\n",
    "import pandas as pd\n",
    "from sklearn.model_selection import train_test_split\n",
    "from sklearn.linear_model import LinearRegression\n",
    "from sklearn.preprocessing import StandardScaler\n",
    "from sklearn.metrics import mean_squared_error, mean_absolute_error, r2_score\n",
    "\n",
    "# Importing Keras for Neural Network\n",
    "from keras.models import Sequential\n",
    "from keras.layers import Dense\n"
   ]
  },
  {
   "cell_type": "code",
   "execution_count": null,
   "id": "57b23c4e",
   "metadata": {},
   "outputs": [],
   "source": [
    "# Load the dataset\n",
    "# If you're running this on Google Colab, uncomment the lines below:\n",
    "# from google.colab import files\n",
    "# uploaded = files.upload()\n",
    "\n",
    "# Assuming dataset is already in the environment\n",
    "boston = pd.read_csv(\"boston_house_prices.csv\")\n",
    "boston.head()\n"
   ]
  },
  {
   "cell_type": "code",
   "execution_count": null,
   "id": "264e1284",
   "metadata": {},
   "outputs": [],
   "source": [
    "# Selecting Features and Target\n",
    "X = boston[['LSTAT', 'RM', 'PTRATIO']]\n",
    "y = boston['PRICE']\n"
   ]
  },
  {
   "cell_type": "code",
   "execution_count": null,
   "id": "119dab90",
   "metadata": {},
   "outputs": [],
   "source": [
    "# Splitting the data\n",
    "X_train, X_test, y_train, y_test = train_test_split(X, y, test_size=0.2, random_state=4)\n"
   ]
  },
  {
   "cell_type": "code",
   "execution_count": null,
   "id": "6e34d289",
   "metadata": {},
   "outputs": [],
   "source": [
    "# Standardizing the Dataset\n",
    "scaler = StandardScaler()\n",
    "X_train_scaled = scaler.fit_transform(X_train)\n",
    "X_test_scaled = scaler.transform(X_test)\n"
   ]
  },
  {
   "cell_type": "code",
   "execution_count": null,
   "id": "ffe9e053",
   "metadata": {},
   "outputs": [],
   "source": [
    "# Linear Regression Model\n",
    "lr_model = LinearRegression()\n",
    "lr_model.fit(X_train_scaled, y_train)\n",
    "y_pred_lr = lr_model.predict(X_test_scaled)\n",
    "\n",
    "# Evaluation\n",
    "mse_lr = mean_squared_error(y_test, y_pred_lr)\n",
    "mae_lr = mean_absolute_error(y_test, y_pred_lr)\n",
    "r2_lr = r2_score(y_test, y_pred_lr)\n",
    "\n",
    "print(\"Linear Regression Model Evaluation:\")\n",
    "print(f\"Mean Squared Error: {mse_lr}\")\n",
    "print(f\"Mean Absolute Error: {mae_lr}\")\n",
    "print(f\"R2 Score: {r2_lr}\")\n"
   ]
  },
  {
   "cell_type": "code",
   "execution_count": null,
   "id": "b814b911",
   "metadata": {},
   "outputs": [],
   "source": [
    "# Deep Neural Network using Keras\n",
    "model = Sequential([\n",
    "    Dense(128, activation='relu', input_dim=3),\n",
    "    Dense(64, activation='relu'),\n",
    "    Dense(32, activation='relu'),\n",
    "    Dense(16, activation='relu'),\n",
    "    Dense(1)\n",
    "])\n",
    "\n",
    "model.compile(optimizer='adam', loss='mse', metrics=['mae'])\n",
    "\n",
    "# Training the model\n",
    "history = model.fit(X_train_scaled, y_train, epochs=100, validation_split=0.05, verbose=1)\n"
   ]
  },
  {
   "cell_type": "code",
   "execution_count": null,
   "id": "75c7017d",
   "metadata": {},
   "outputs": [],
   "source": [
    "# Evaluation on test data\n",
    "y_pred_nn = model.predict(X_test_scaled)\n",
    "mse_nn, mae_nn = model.evaluate(X_test_scaled, y_test)\n",
    "\n",
    "print(\"\\nNeural Network Model Evaluation:\")\n",
    "print(f\"Mean Squared Error: {mse_nn}\")\n",
    "print(f\"Mean Absolute Error: {mae_nn}\")\n"
   ]
  },
  {
   "cell_type": "code",
   "execution_count": null,
   "id": "cb45ae0d",
   "metadata": {},
   "outputs": [],
   "source": [
    "# Predicting new data\n",
    "new_data = np.array([[0.1, 10.0, 5.0]])\n",
    "new_data_scaled = scaler.transform(new_data)\n",
    "prediction = model.predict(new_data_scaled)\n",
    "\n",
    "print(\"\\nPredicted House Price:\", prediction[0][0])\n"
   ]
  }
 ],
 "metadata": {},
 "nbformat": 4,
 "nbformat_minor": 5
}
